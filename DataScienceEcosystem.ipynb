{
 "cells": [
  {
   "cell_type": "markdown",
   "id": "8b958bee-ebc8-4a0a-af70-e521eb959624",
   "metadata": {},
   "source": [
    "# Data Science Tools and Ecosystem\n"
   ]
  },
  {
   "cell_type": "markdown",
   "id": "98783e3e-1173-4b1e-91a3-8b979ded1db2",
   "metadata": {},
   "source": [
    "## Introduction\n",
    "\n",
    "In this notebook, we will provide a comprehensive overview and summary of the Data Science Tools and Ecosystem.\n"
   ]
  },
  {
   "cell_type": "markdown",
   "id": "d6b90d00-3f77-49b3-9cbb-51e1854e1d5c",
   "metadata": {},
   "source": [
    "## Data Science Languages\n",
    "\n",
    "Some of the popular languages that Data Scientists use are:\n",
    "\n",
    "1. Python\n",
    "2. R\n",
    "3. Julia\n",
    "\n",
    "\n"
   ]
  },
  {
   "cell_type": "markdown",
   "id": "f4aed18b-52c2-480d-abd1-f004c2ae7f82",
   "metadata": {
    "tags": []
   },
   "source": [
    "## Data Science Languages and Libraries\n",
    "\n",
    "Some of the commonly used languages and libraries by Data Scientists include:\n",
    "\n",
    "1. Python\n",
    "2. R\n",
    "3. Julia\n",
    "\n",
    "Python, with its extensive libraries such as NumPy, Pandas, and TensorFlow, is widely favored for its versatility and ease of use in data science tasks. R, on the other hand, is known for its powerful statistical capabilities and vast collection of specialized packages. Julia, a relatively newer language, has gained popularity for its high-performance computing capabilities and easy integration with other languages.\n",
    "\n",
    "These languages are often accompanied by a range of commonly used libraries in data science, such as:\n",
    "\n",
    "- Scikit-learn: A machine learning library in Python that provides a wide array of algorithms and tools for tasks like classification, regression, and clustering.\n",
    "- ggplot2: A visualization package in R that enables the creation of sophisticated and customized statistical graphics.\n",
    "- PyTorch: A popular deep learning framework in Python that allows for efficient neural network implementation and training.\n",
    "\n",
    "These are just a few examples of the many languages and libraries available for data science, and each one offers its own unique set of features and benefits. The choice of language and libraries depends on the specific requirements of the project and the expertise of the Data Scientist.\n"
   ]
  },
  {
   "cell_type": "markdown",
   "id": "19a03fe8-ae96-4c84-b45a-87b2b10f4003",
   "metadata": {},
   "source": [
    "## Data Science Tools\n",
    "\n",
    "| Data Science Tools |\n",
    "| ----------------- |\n",
    "| Jupyter Notebook  |\n",
    "| RStudio           |\n",
    "| PyCharm           |\n"
   ]
  },
  {
   "cell_type": "markdown",
   "id": "605b69ba-f4a0-49e7-883c-c0ed98c4de9d",
   "metadata": {},
   "source": [
    "### Examples of Evaluating Arithmetic Expressions in Python\n",
    "\n",
    "Below are a few examples of evaluating arithmetic expressions in Python:\n",
    "\n",
    "| Data Science Tools |\n",
    "| ----------------- |\n",
    "| Jupyter Notebook  |\n",
    "| RStudio           |\n",
    "| PyCharm           |\n"
   ]
  },
  {
   "cell_type": "code",
   "execution_count": 4,
   "id": "4c971fe1-b343-4b7c-addf-bd03b323ab1b",
   "metadata": {
    "tags": []
   },
   "outputs": [
    {
     "data": {
      "text/plain": [
       "17"
      ]
     },
     "execution_count": 4,
     "metadata": {},
     "output_type": "execute_result"
    }
   ],
   "source": [
    "# This is a simple arithmetic expression to multiply then add integers\n",
    "result = (3 * 4) + 5\n",
    "result\n"
   ]
  },
  {
   "cell_type": "code",
   "execution_count": 5,
   "id": "d6e93d6e-3163-41d6-a1cf-4e5bd0668d4b",
   "metadata": {
    "tags": []
   },
   "outputs": [
    {
     "data": {
      "text/plain": [
       "3.3333333333333335"
      ]
     },
     "execution_count": 5,
     "metadata": {},
     "output_type": "execute_result"
    }
   ],
   "source": [
    "# This will convert 200 minutes to hours by dividing by 60\n",
    "minutes = 200\n",
    "hours = minutes / 60\n",
    "hours\n"
   ]
  },
  {
   "cell_type": "markdown",
   "id": "df4ab815-08f5-4cc8-8e30-82552b56afd3",
   "metadata": {},
   "source": [
    "## Author\n",
    "\n",
    "Author: Kamran Khan\n"
   ]
  },
  {
   "cell_type": "code",
   "execution_count": null,
   "id": "852ecf3b-174d-4c7f-9f4e-53df768d6545",
   "metadata": {},
   "outputs": [],
   "source": []
  }
 ],
 "metadata": {
  "kernelspec": {
   "display_name": "Python",
   "language": "python",
   "name": "conda-env-python-py"
  },
  "language_info": {
   "codemirror_mode": {
    "name": "ipython",
    "version": 3
   },
   "file_extension": ".py",
   "mimetype": "text/x-python",
   "name": "python",
   "nbconvert_exporter": "python",
   "pygments_lexer": "ipython3",
   "version": "3.7.12"
  }
 },
 "nbformat": 4,
 "nbformat_minor": 5
}
